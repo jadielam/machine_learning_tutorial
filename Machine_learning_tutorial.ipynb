{
 "cells": [
  {
   "cell_type": "markdown",
   "metadata": {},
   "source": [
    "# Machine Learning Tutorial\n",
    "In this tutorial we will use a hands-on experience example using Google's Tensorflow to cover the fundamentals of machine learning.  These are the sections of the tutorial, and the approximate time that we will dedicate to them:\n",
    "1. Introduction to different types of Machine Learning (10 minutes)\n",
    "2. Supervised learning (20 minutes)\n",
    "3. Deep learning and deep neural networks (10 minutes)\n",
    "4. Tensorflow (20 minutes)\n",
    "5. Convolutional neural networks (20 minutes)\n",
    "6. Image classification example (10 minutes)\n",
    "7. Deploying the model (5 minutes)"
   ]
  },
  {
   "cell_type": "markdown",
   "metadata": {},
   "source": [
    "## Types of Machine Learning\n",
    "1. Unsupervised learning\n",
    "2. Supervised learning\n",
    "3. Semisupervised learning\n",
    "4. Reinforcement learning"
   ]
  },
  {
   "cell_type": "code",
   "execution_count": 370,
   "metadata": {
    "collapsed": false
   },
   "outputs": [],
   "source": [
    "#Import needed across all cells:\n",
    "\n",
    "#numpy is a python package for scientific computing. Contains\n",
    "#functions for array creation and manipulation, as well as useful\n",
    "#linear algebra algorithms.\n",
    "import numpy as np \n",
    "\n",
    "#Google's framework for deep learning\n",
    "import tensorflow as tf\n",
    "\n",
    "#Python library for Machine learning in general\n",
    "import sklearn\n",
    "\n",
    "#Plotting library\n",
    "import matplotlib.pyplot as plt\n",
    "%matplotlib inline"
   ]
  },
  {
   "cell_type": "markdown",
   "metadata": {},
   "source": [
    "## Unsupervised Learning Example\n",
    "The purpose of unsupervised learning is to draw inferences from the dataset without labeled responses.  The most common unsupervised learning method is cluster analysis, which is used for exploratory data analysis to find hidden patterns or groupings in data."
   ]
  },
  {
   "cell_type": "code",
   "execution_count": 453,
   "metadata": {
    "collapsed": false
   },
   "outputs": [
    {
     "data": {
      "text/plain": [
       "[None, None, None]"
      ]
     },
     "execution_count": 453,
     "metadata": {},
     "output_type": "execute_result"
    },
    {
     "data": {
      "image/png": "[encoded data removed]",
      "text/plain": [
       "<matplotlib.figure.Figure at 0x7f5ede6858d0>"
      ]
     },
     "metadata": {},
     "output_type": "display_data"
    }
   ],
   "source": [
    "# EXAMPLE 1: Unsupervised learning example\n",
    "# Clustering timeseries\n",
    "from sklearn.cluster import KMeans\n",
    "\n",
    "#Creating 3 time series: s1, s2, s3\n",
    "s1 = np.array([1, 2, 3, 4, 5, 3, 2,1,0, -1, -2, -1, 1, 1.5, 3, 2])\n",
    "s2 = np.full_like(s1, fill_value=12)\n",
    "s3 = s1 + np.full_like(s1, fill_value=10)\n",
    "X = [s1, s2, s3]\n",
    "\n",
    "#Manipulation of color in the plot of the timeseries.\n",
    "colors = { 0: 'r', 1: 'b', 2: 'g'}\n",
    "\n",
    "#Initially, let's have each element be its own group\n",
    "cluster_pred = [0, 1, 2]\n",
    "\n",
    "#If we want to cluster those timeseries by how close the values\n",
    "#are to each other.\n",
    "#cluster_pred = KMeans(n_clusters = 2).fit_predict(X)\n",
    "\n",
    "#If we want to cluster those timeseries by how close their shape\n",
    "#is to each other, then we have to apply a transformation before\n",
    "#clustering.\n",
    "#Applying these transformations to the data is where the creative\n",
    "#process of discovering patterns resides.\n",
    "#cluster_pred = KMeans(n_clusters = 2).fit_predict([np.diff(x) for x in X])\n",
    "\n",
    "#Creating x axis and plotting\n",
    "x_axis = np.arange(0, s1.shape[0], 1)\n",
    "lines = plt.plot(x_axis, s1, x_axis, s2, x_axis, s3)\n",
    "for i in range(len(lines)):\n",
    "    lines[i].set_color(colors[cluster_pred[i]])\n",
    "plt.setp(lines, linewidth=10.0)\n"
   ]
  },
  {
   "cell_type": "markdown",
   "metadata": {},
   "source": [
    "## Supervised Learning Example\n",
    "Supervised learning is the machine learning task of inferring (learning) a function from labeled training data.  Each example of the labeled training data is a pair consisting of an input object (tipically a vector) and a desired output value.\n",
    "### Phase 1: Data gathering"
   ]
  },
  {
   "cell_type": "code",
   "execution_count": 454,
   "metadata": {
    "collapsed": false
   },
   "outputs": [
    {
     "data": {
      "text/plain": [
       "[<matplotlib.lines.Line2D at 0x7f5ee342ced0>]"
      ]
     },
     "execution_count": 454,
     "metadata": {},
     "output_type": "execute_result"
    },
    {
     "data": {
      "image/png": "[encoded data removed]",
      "text/plain": [
       "<matplotlib.figure.Figure at 0x7f5eef379450>"
      ]
     },
     "metadata": {},
     "output_type": "display_data"
    }
   ],
   "source": [
    "#1. Generating an entire population of points.\n",
    "x = np.arange(0, 6, 0.1)\n",
    "indexes = np.arange(60)\n",
    "error = 0.7 * np.random.randn(x.shape[0])\n",
    "y = np.array([(i -3)**2 for i in x]) + error\n",
    "#plt.plot(x , y, 'ro')\n",
    "\n",
    "#2. Picking a percentage of the population as training set.\n",
    "x_training = x[:10]\n",
    "y_training = y[:10]\n",
    "plt.plot(x_training, y_training, 'bo')\n",
    "\n",
    "#3. Doing a polynomial fit of the population\n",
    "z = np.polyfit(x_training, y_training, 1)\n",
    "p1 = np.poly1d(z)\n",
    "y_fit = p1(x)\n",
    "plt.plot(x, y_fit)"
   ]
  },
  {
   "cell_type": "code",
   "execution_count": 455,
   "metadata": {
    "collapsed": false
   },
   "outputs": [
    {
     "data": {
      "text/plain": [
       "[<matplotlib.lines.Line2D at 0x7f5ede382610>]"
      ]
     },
     "execution_count": 455,
     "metadata": {},
     "output_type": "execute_result"
    },
    {
     "data": {
      "image/png": "[encoded data removed]",
      "text/plain": [
       "<matplotlib.figure.Figure at 0x7f5ede501fd0>"
      ]
     },
     "metadata": {},
     "output_type": "display_data"
    }
   ],
   "source": [
    "#But we have a problem, the training set we picked\n",
    "#is not a good representation of the whole population\n",
    "#and hence, our fit is not very good.\n",
    "plt.plot(x , y, 'ro')\n",
    "plt.plot(x_training, y_training, 'bo')\n",
    "plt.plot(x, y_fit)"
   ]
  },
  {
   "cell_type": "markdown",
   "metadata": {},
   "source": [
    "### Phase 2: Model design\n"
   ]
  },
  {
   "cell_type": "code",
   "execution_count": 456,
   "metadata": {
    "collapsed": false
   },
   "outputs": [
    {
     "data": {
      "text/plain": [
       "[<matplotlib.lines.Line2D at 0x7f5ede2b5090>]"
      ]
     },
     "execution_count": 456,
     "metadata": {},
     "output_type": "execute_result"
    },
    {
     "data": {
      "image/png": "[encoded data removed]",
      "text/plain": [
       "<matplotlib.figure.Figure at 0x7f5ee333a0d0>"
      ]
     },
     "metadata": {},
     "output_type": "display_data"
    }
   ],
   "source": [
    "#1. First, let's gather training data better\n",
    "#We now pick the indexes RANDOMLY from the entire\n",
    "#population, and we create a training set of 10\n",
    "#values.\n",
    "random_indexes = np.sort(np.random.choice(indexes, 10, replace = False))\n",
    "\n",
    "min_ind = min(random_indexes)\n",
    "max_ind = max(random_indexes)\n",
    "\n",
    "x_training = np.take(x, random_indexes)\n",
    "y_training = np.take(y, random_indexes)\n",
    "plt.plot(x_training, y_training, 'bo')\n"
   ]
  },
  {
   "cell_type": "code",
   "execution_count": 457,
   "metadata": {
    "collapsed": false
   },
   "outputs": [
    {
     "data": {
      "text/plain": [
       "(-3, 8)"
      ]
     },
     "execution_count": 457,
     "metadata": {},
     "output_type": "execute_result"
    },
    {
     "data": {
      "image/png": "[encoded data removed]",
      "text/plain": [
       "<matplotlib.figure.Figure at 0x7f5ede2ed7d0>"
      ]
     },
     "metadata": {},
     "output_type": "display_data"
    }
   ],
   "source": [
    "#Fitting a 9-degree polynomial\n",
    "z9 = np.polyfit(x_training, y_training, 9)\n",
    "p9 = np.poly1d(z9)\n",
    "y9_fit = p9(x[min_ind : max_ind + 1])\n",
    "\n",
    "#Fitting a 2-degree polynomial\n",
    "z2 = np.polyfit(x_training, y_training, 2)\n",
    "p2 = np.poly1d(z2)\n",
    "y2_fit = p2(x[min_ind : max_ind + 1])\n",
    "\n",
    "#Plotting the results\n",
    "plt.plot(x[min_ind : max_ind + 1], y[min_ind : max_ind + 1], 'ro')\n",
    "plt.plot(x[min_ind : max_ind + 1], y2_fit)\n",
    "plt.plot(x[min_ind : max_ind + 1], y9_fit)\n",
    "plt.plot(x_training, y_training, 'bo')\n",
    "plt.ylim(-3, 8)\n"
   ]
  },
  {
   "cell_type": "markdown",
   "metadata": {},
   "source": [
    "### Phase 3: Evaluation\n",
    "This phase is very important. Needs to be a metric that telss us how the model performs. <b>Do not assume that the \"eye test\" is a valid evaluation metric.</b>  The idea is to pick a loss function that makes sense, and evaluate it on a TEST set that has not been seen at training time."
   ]
  },
  {
   "cell_type": "code",
   "execution_count": 458,
   "metadata": {
    "collapsed": false
   },
   "outputs": [
    {
     "name": "stdout",
     "output_type": "stream",
     "text": [
      "Error 9-degree polynomial on TRAINING data: 9.18233077862e-10\n",
      "Error 2-degree polynomial on TRAINING data: 1.43761296754\n",
      "\n",
      "Error 9-degree polynomial on TESTING data: 13.0689932375\n",
      "Error 2-degree polynomial on TESTING data: 4.34834013591\n",
      "\n",
      "CONCLUSIONS: To derive how complex your model should be, \n",
      "use a proper evaluation technique as your guidance.\n"
     ]
    }
   ],
   "source": [
    "#Let's use simple euclidean distance as evaluation function.  Here less is better.\n",
    "\n",
    "#For the sake of illustration, suppose that we evaluate on the TEST set the\n",
    "#2-degree polynomial fit and the 9-degree polynomial fit.\n",
    "p9_error_training = np.linalg.norm(y_training - p9(x_training))\n",
    "p2_error_training = np.linalg.norm(y_training - p2(x_training))\n",
    "print(\"Error 9-degree polynomial on TRAINING data: \" + str(p9_error_training))\n",
    "print(\"Error 2-degree polynomial on TRAINING data: \" + str(p2_error_training))\n",
    "\n",
    "#Calculating distance on a test set not seen by the training algorithm.\n",
    "testing_indexes = np.sort(np.random.choice(indexes, 20))\n",
    "x_testing = np.take(x, testing_indexes)\n",
    "y_testing = np.take(y, testing_indexes)\n",
    "\n",
    "p9_error_testing = np.linalg.norm(y_testing - p9(x_testing))\n",
    "p2_error_testing = np.linalg.norm(y_testing - p2(x_testing))\n",
    "print(\"\")\n",
    "print(\"Error 9-degree polynomial on TESTING data: \" + str(p9_error_testing))\n",
    "print(\"Error 2-degree polynomial on TESTING data: \" + str(p2_error_testing))\n",
    "print(\"\")\n",
    "print(\"CONCLUSIONS: To derive how complex your model should be, \" +\n",
    "       \"\\nuse a proper evaluation technique as your guidance.\")"
   ]
  },
  {
   "cell_type": "markdown",
   "metadata": {},
   "source": [
    "Some good advice on how to use evaluation to dictate what model to use:  \n",
    "1. If the error in your TRAINING data is HIGH, this means that you need a more complex model.\n",
    "2. If the error in your TRAINING data is LOW, but the error in your TESTING data is HIGH, this means that\n",
    "your model is not generalizing well (your model is overfitting to the training dataset). You need to use a simpler model, or use some <a href=\"https://en.wikipedia.org/wiki/Regularization_(mathematics)\"> regularization techniques</a>."
   ]
  },
  {
   "cell_type": "markdown",
   "metadata": {},
   "source": [
    "### The importance of data\n",
    "What a difference does more training data make on the error of the model? Well, let's plot it."
   ]
  },
  {
   "cell_type": "code",
   "execution_count": 459,
   "metadata": {
    "collapsed": false
   },
   "outputs": [
    {
     "data": {
      "text/plain": [
       "<matplotlib.text.Text at 0x7f5ede174950>"
      ]
     },
     "execution_count": 459,
     "metadata": {},
     "output_type": "execute_result"
    },
    {
     "data": {
      "image/png": "[encoded data removed]",
      "text/plain": [
       "<matplotlib.figure.Figure at 0x7f5ee0e13b10>"
      ]
     },
     "metadata": {},
     "output_type": "display_data"
    }
   ],
   "source": [
    "#1. First, let's make the data more noisy, so that it resembles \n",
    "#real life data better:\n",
    "error = 1.5 * np.random.randn(x.shape[0])\n",
    "y_noisy = np.array([(i - 3)**2 for i in x]) + error\n",
    "\n",
    "#2. Let's build the plot.\n",
    "number_of_data_points = [5, 10, 15, 20, 25, 30, 35, 40, 45, 50]\n",
    "errors = []\n",
    "for i in number_of_data_points:\n",
    "    \n",
    "    random_indexes = np.sort(np.random.choice(indexes, size = i, replace = False))\n",
    "    \n",
    "    #2.1 Selecting training data\n",
    "    x_training = np.take(x, random_indexes)\n",
    "    y_training = np.take(y_noisy, random_indexes)\n",
    "    \n",
    "    #2.2 Selecting testing data\n",
    "    x_testing = np.take(x, np.setdiff1d(indexes, random_indexes))\n",
    "    y_testing = np.take(y_noisy, np.setdiff1d(indexes, random_indexes))\n",
    "    \n",
    "    #2.3 Fitting the model\n",
    "    p = np.poly1d(np.polyfit(x_training, y_training, 2))\n",
    "    \n",
    "    #2.4 Calculating the error\n",
    "    errors.append(np.linalg.norm(y_testing - p(x_testing)))\n",
    "\n",
    "plt.plot(number_of_data_points, errors)\n",
    "plt.xlabel(\"Training size\")\n",
    "plt.ylabel(\"Error\")\n",
    "    "
   ]
  },
  {
   "cell_type": "markdown",
   "metadata": {},
   "source": [
    "Since data is so important and so expensive to obtain, it would be a luxury to use 50% of a dataset for training purposes and 50% for testing purposes.  Instead, we use the k-fold cross validation algorithm.  For more details, see the <a href=\"https://en.wikipedia.org/wiki/Cross-validation_(statistics)\">Crossvalidation Wikipedia entry</a>."
   ]
  },
  {
   "cell_type": "markdown",
   "metadata": {},
   "source": [
    "## Deep learning\n",
    "Why then do we need Deep Learning?  Most real life problems need functions that are more complex than linear, polynomial or exponential functions.  We need a way to compose functions to create more powerful or complext functions. That's what happens in neural networks.  The model is described as a directed acyclic graph that describes how functions are composed together.  \n",
    "\n",
    "For example, if we have 3 functions <em>f</em>, <em>g</em> and <em>h</em> connected in a chain, they form the function <em>i(x) = h(g(f(x)))</em>\n",
    "\n",
    "The overall length of the chain gives the depth of the model.  It is from that terminology that the name \"deep learning\" arises.\n",
    "\n",
    "A learning model will have three main components that need to be chosen or designed: (1) network architecture, (2) loss function, (3) optimization algorithm.\n",
    "\n",
    "### Network architecture\n",
    "<img src=\"http://www.rsipvision.com/wp-content/uploads/2015/04/Slide5.png\"></img>\n",
    "\n",
    "### Loss function\n",
    "It should be tied to the kind of output function used in your output layer.  If your output is probabilistic, literature recommends to use the negative log-likelihood, equivalently described as the cross-entropy between the training data and the model distribution.\n",
    "\n",
    "### Optimization algorithm\n",
    "It will be one of many flavors of backpropagation algorithms.  The flavor you use depends on the network architecture and will affect the training speed of the model."
   ]
  },
  {
   "cell_type": "markdown",
   "metadata": {},
   "source": [
    "## Tensorflow\n",
    "Let's implement a simple 2-degree polynomial regression using tensorflow and apply it to our toy dataset.  It is a good design pattern to write three functions, each for the three components of the model:"
   ]
  },
  {
   "cell_type": "code",
   "execution_count": 451,
   "metadata": {
    "collapsed": false
   },
   "outputs": [
    {
     "name": "stdout",
     "output_type": "stream",
     "text": [
      "()\n"
     ]
    }
   ],
   "source": [
    "print(x.shape)"
   ]
  },
  {
   "cell_type": "code",
   "execution_count": 466,
   "metadata": {
    "collapsed": false
   },
   "outputs": [
    {
     "data": {
      "text/plain": [
       "[<matplotlib.lines.Line2D at 0x7f5edd89f450>]"
      ]
     },
     "execution_count": 466,
     "metadata": {},
     "output_type": "execute_result"
    },
    {
     "data": {
      "image/png": "[encoded data removed]",
      "text/plain": [
       "<matplotlib.figure.Figure at 0x7f5edd28b610>"
      ]
     },
     "metadata": {},
     "output_type": "display_data"
    }
   ],
   "source": [
    "def architecture(X):\n",
    "    '''\n",
    "    Creates the layers of the network.  In this case, it is\n",
    "    a very simple architecture with only two layers: input layer\n",
    "    and output layer, and relates them through 3 parameters that\n",
    "    are needed to specify a polynomial of degree 2.\n",
    "    X is the input placeholder.\n",
    "    '''\n",
    "    #The three parameters that we need to find are A, B and C:\n",
    "    #Y = AX^2 + BX + C\n",
    "    A = tf.Variable(tf.random_normal([1]), name=\"A\")\n",
    "    B = tf.Variable(tf.random_normal([1]), name=\"B\")\n",
    "    C = tf.Variable(tf.random_normal([1]), name=\"C\")\n",
    "    temp = tf.add(tf.mul(tf.pow(X, 2), A), tf.mul(X, B))\n",
    "    Y_pred = tf.add(temp, C)\n",
    "    \n",
    "    return Y_pred\n",
    "\n",
    "def loss(output_layer, Y, n_observations):\n",
    "    '''\n",
    "    Y is the output placeholder\n",
    "    '''\n",
    "    loss = tf.reduce_sum(tf.pow(Y_pred - Y, 2)) / n_observations\n",
    "    return loss\n",
    "\n",
    "def optimization(loss, learning_rate):\n",
    "    optimizer = tf.train.GradientDescentOptimizer(learning_rate).minimize(loss)\n",
    "    return optimizer\n",
    "\n",
    "#1. Training:\n",
    "#input placeholder\n",
    "X = tf.placeholder(tf.float32)\n",
    "#output placeholder\n",
    "Y = tf.placeholder(tf.float32)\n",
    "Y_pred = architecture(X)\n",
    "loss = loss(Y_pred, Y, x_training.shape[0])\n",
    "optimizer = optimization(loss, 0.01)\n",
    "\n",
    "y_prediction = []\n",
    "with tf.Session() as sess:\n",
    "    sess.run(tf.initialize_all_variables())\n",
    "    for i in range(3000):\n",
    "        for j in range(x_training.shape[0]):\n",
    "            x_feed = x_training[j]\n",
    "            y_feed = y_training[j]\n",
    "            sess.run(optimizer, feed_dict = {X: x_feed, Y: y_feed})\n",
    "    \n",
    "    #Testing inside the same session\n",
    "    for i in range(x.shape[0]):\n",
    "        y_prediction.append(Y_pred.eval(feed_dict = {X : x[i]}, session = sess))\n",
    "            \n",
    "\n",
    "plt.plot(x, y_prediction)\n",
    "plt.plot(x, y, 'ro')\n"
   ]
  },
  {
   "cell_type": "markdown",
   "metadata": {},
   "source": [
    "Looking at the plot, and comparing it with the plot from the other solution, you will realize why this is the kind of\n",
    "problems for which you DON'T use Tensorflow.  Polynomials are simple functions for which we know the normal equations and we can solve the problem exactly without having to to iterations.  Tensorflow (and deep learning libraries in general) shine with non-linear non-convex functions for which we don't know an exact way of finding a solution.  For those complex functions, tensorflow will optimize iteratively.\n",
    "\n",
    "EXERCISE: Increment the number of steps from 500 to something else (maybe 2000), so that you see what I mean.\n",
    "\n",
    "One important thing that we learn from here: If you notice, the fit is progressively moving to the right. That is because the randomly initiated parameters at the beginning were to the left of this plot.  At parameter initialization time, if we do a good educated guess, we can speed up the process much."
   ]
  },
  {
   "cell_type": "markdown",
   "metadata": {},
   "source": [
    "## Convolutional Neural Networks\n",
    "<img src=http://www.rsipvision.com/wp-content/uploads/2015/04/Slide7.png\""
   ]
  },
  {
   "cell_type": "markdown",
   "metadata": {},
   "source": [
    "## Image classification transfer learning example"
   ]
  },
  {
   "cell_type": "markdown",
   "metadata": {},
   "source": [
    "//Create a small example where I can modify the number of data points to use.  Check that I can do that efficiently.\n",
    "//Run it and show how to use tensorboard.\n",
    "//Show a graph that shows classification as a function of number of datapoints used.\n"
   ]
  },
  {
   "cell_type": "markdown",
   "metadata": {},
   "source": [
    "## Deploying the example to an endpoint"
   ]
  },
  {
   "cell_type": "markdown",
   "metadata": {},
   "source": [
    "## The economics of Deep Learning"
   ]
  },
  {
   "cell_type": "code",
   "execution_count": null,
   "metadata": {
    "collapsed": true
   },
   "outputs": [],
   "source": []
  }
 ],
 "metadata": {
  "kernelspec": {
   "display_name": "Python 2",
   "language": "python",
   "name": "python2"
  },
  "language_info": {
   "codemirror_mode": {
    "name": "ipython",
    "version": 2
   },
   "file_extension": ".py",
   "mimetype": "text/x-python",
   "name": "python",
   "nbconvert_exporter": "python",
   "pygments_lexer": "ipython2",
   "version": "2.7.6"
  }
 },
 "nbformat": 4,
 "nbformat_minor": 0
}
